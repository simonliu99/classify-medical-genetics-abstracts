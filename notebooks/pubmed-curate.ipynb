{
 "cells": [
  {
   "cell_type": "markdown",
   "id": "c8acc16b-8e04-46de-8f1e-d9872242860e",
   "metadata": {},
   "source": [
    "# Pubmed Paper Classification - Curate Data"
   ]
  },
  {
   "cell_type": "markdown",
   "id": "56b4b774-fc15-4785-9b89-9ba2138182bc",
   "metadata": {},
   "source": [
    "## Import relevant libraries"
   ]
  },
  {
   "cell_type": "code",
   "execution_count": 1,
   "id": "51f9801a-7c27-4c5d-a35e-5ca428ad0bd3",
   "metadata": {},
   "outputs": [],
   "source": [
    "import os\n",
    "import time\n",
    "import xml.etree.ElementTree as ET\n",
    "\n",
    "import pandas as pd\n",
    "from tqdm import tqdm as _tqdm\n",
    "from tqdm.notebook import tqdm\n",
    "import seaborn as sns\n",
    "import matplotlib.pyplot as plt\n",
    "from bs4 import BeautifulSoup"
   ]
  },
  {
   "cell_type": "code",
   "execution_count": 2,
   "id": "f6193040-ee65-41d2-9de4-0958d916f0d4",
   "metadata": {},
   "outputs": [],
   "source": [
    "input_dt = '8.26.21'\n",
    "input_fn = '../input/pubmed-%s.xlsx' % input_dt\n",
    "efetch_fn = '../input/efetch-%s.xml' % input_dt\n",
    "failed_fn = '../input/failed-%s.pickle' % input_dt\n",
    "data_fn = '../input/abstracts-%s.pickle' % input_dt"
   ]
  },
  {
   "cell_type": "markdown",
   "id": "8094373a-777d-4ec9-9bcb-db6d7d53b54a",
   "metadata": {},
   "source": [
    "## Preprocess article list and labels"
   ]
  },
  {
   "cell_type": "code",
   "execution_count": 3,
   "id": "8eb60a0c-1194-487d-8330-6026d17a4f6f",
   "metadata": {},
   "outputs": [
    {
     "data": {
      "text/html": [
       "<div>\n",
       "<style scoped>\n",
       "    .dataframe tbody tr th:only-of-type {\n",
       "        vertical-align: middle;\n",
       "    }\n",
       "\n",
       "    .dataframe tbody tr th {\n",
       "        vertical-align: top;\n",
       "    }\n",
       "\n",
       "    .dataframe thead th {\n",
       "        text-align: right;\n",
       "    }\n",
       "</style>\n",
       "<table border=\"1\" class=\"dataframe\">\n",
       "  <thead>\n",
       "    <tr style=\"text-align: right;\">\n",
       "      <th></th>\n",
       "      <th>PMID</th>\n",
       "      <th>Category</th>\n",
       "    </tr>\n",
       "  </thead>\n",
       "  <tbody>\n",
       "    <tr>\n",
       "      <th>0</th>\n",
       "      <td>25553339</td>\n",
       "      <td>1</td>\n",
       "    </tr>\n",
       "    <tr>\n",
       "      <th>1</th>\n",
       "      <td>26663098</td>\n",
       "      <td>1</td>\n",
       "    </tr>\n",
       "    <tr>\n",
       "      <th>2</th>\n",
       "      <td>27014455</td>\n",
       "      <td>1</td>\n",
       "    </tr>\n",
       "    <tr>\n",
       "      <th>3</th>\n",
       "      <td>27088280</td>\n",
       "      <td>1</td>\n",
       "    </tr>\n",
       "    <tr>\n",
       "      <th>4</th>\n",
       "      <td>27112773</td>\n",
       "      <td>1</td>\n",
       "    </tr>\n",
       "    <tr>\n",
       "      <th>...</th>\n",
       "      <td>...</td>\n",
       "      <td>...</td>\n",
       "    </tr>\n",
       "    <tr>\n",
       "      <th>13997</th>\n",
       "      <td>34231533</td>\n",
       "      <td>10</td>\n",
       "    </tr>\n",
       "    <tr>\n",
       "      <th>13998</th>\n",
       "      <td>34233515</td>\n",
       "      <td>10</td>\n",
       "    </tr>\n",
       "    <tr>\n",
       "      <th>13999</th>\n",
       "      <td>34234854</td>\n",
       "      <td>10</td>\n",
       "    </tr>\n",
       "    <tr>\n",
       "      <th>14000</th>\n",
       "      <td>34235035</td>\n",
       "      <td>10</td>\n",
       "    </tr>\n",
       "    <tr>\n",
       "      <th>14001</th>\n",
       "      <td>Not in Pubmed</td>\n",
       "      <td>10</td>\n",
       "    </tr>\n",
       "  </tbody>\n",
       "</table>\n",
       "<p>14002 rows × 2 columns</p>\n",
       "</div>"
      ],
      "text/plain": [
       "                PMID  Category\n",
       "0           25553339         1\n",
       "1           26663098         1\n",
       "2           27014455         1\n",
       "3           27088280         1\n",
       "4           27112773         1\n",
       "...              ...       ...\n",
       "13997       34231533        10\n",
       "13998       34233515        10\n",
       "13999       34234854        10\n",
       "14000       34235035        10\n",
       "14001  Not in Pubmed        10\n",
       "\n",
       "[14002 rows x 2 columns]"
      ]
     },
     "execution_count": 3,
     "metadata": {},
     "output_type": "execute_result"
    }
   ],
   "source": [
    "pm = pd.read_excel(input_fn)[['PMID','Title','Category']]\n",
    "orig = pm.copy()\n",
    "pm.drop(['Title'], axis=1, inplace=True)\n",
    "pm"
   ]
  },
  {
   "cell_type": "code",
   "execution_count": 4,
   "id": "f8e1e64a-3e92-478c-8646-a1b7f339c679",
   "metadata": {},
   "outputs": [
    {
     "data": {
      "text/plain": [
       "array([ 1,  3,  4,  5,  6,  7,  8,  9, 10])"
      ]
     },
     "execution_count": 4,
     "metadata": {},
     "output_type": "execute_result"
    }
   ],
   "source": [
    "pm.Category.unique()"
   ]
  },
  {
   "cell_type": "code",
   "execution_count": 5,
   "id": "4dabd9b7-e7ee-452a-9759-f9a979e43249",
   "metadata": {},
   "outputs": [
    {
     "data": {
      "text/html": [
       "<div>\n",
       "<style scoped>\n",
       "    .dataframe tbody tr th:only-of-type {\n",
       "        vertical-align: middle;\n",
       "    }\n",
       "\n",
       "    .dataframe tbody tr th {\n",
       "        vertical-align: top;\n",
       "    }\n",
       "\n",
       "    .dataframe thead th {\n",
       "        text-align: right;\n",
       "    }\n",
       "</style>\n",
       "<table border=\"1\" class=\"dataframe\">\n",
       "  <thead>\n",
       "    <tr style=\"text-align: right;\">\n",
       "      <th></th>\n",
       "      <th>PMID</th>\n",
       "      <th>Category</th>\n",
       "    </tr>\n",
       "  </thead>\n",
       "  <tbody>\n",
       "    <tr>\n",
       "      <th>0</th>\n",
       "      <td>25553339</td>\n",
       "      <td>1</td>\n",
       "    </tr>\n",
       "    <tr>\n",
       "      <th>1</th>\n",
       "      <td>26663098</td>\n",
       "      <td>1</td>\n",
       "    </tr>\n",
       "    <tr>\n",
       "      <th>2</th>\n",
       "      <td>27014455</td>\n",
       "      <td>1</td>\n",
       "    </tr>\n",
       "    <tr>\n",
       "      <th>3</th>\n",
       "      <td>27088280</td>\n",
       "      <td>1</td>\n",
       "    </tr>\n",
       "    <tr>\n",
       "      <th>4</th>\n",
       "      <td>27112773</td>\n",
       "      <td>1</td>\n",
       "    </tr>\n",
       "    <tr>\n",
       "      <th>...</th>\n",
       "      <td>...</td>\n",
       "      <td>...</td>\n",
       "    </tr>\n",
       "    <tr>\n",
       "      <th>13996</th>\n",
       "      <td>34231311</td>\n",
       "      <td>10</td>\n",
       "    </tr>\n",
       "    <tr>\n",
       "      <th>13997</th>\n",
       "      <td>34231533</td>\n",
       "      <td>10</td>\n",
       "    </tr>\n",
       "    <tr>\n",
       "      <th>13998</th>\n",
       "      <td>34233515</td>\n",
       "      <td>10</td>\n",
       "    </tr>\n",
       "    <tr>\n",
       "      <th>13999</th>\n",
       "      <td>34234854</td>\n",
       "      <td>10</td>\n",
       "    </tr>\n",
       "    <tr>\n",
       "      <th>14000</th>\n",
       "      <td>34235035</td>\n",
       "      <td>10</td>\n",
       "    </tr>\n",
       "  </tbody>\n",
       "</table>\n",
       "<p>13998 rows × 2 columns</p>\n",
       "</div>"
      ],
      "text/plain": [
       "           PMID  Category\n",
       "0      25553339         1\n",
       "1      26663098         1\n",
       "2      27014455         1\n",
       "3      27088280         1\n",
       "4      27112773         1\n",
       "...         ...       ...\n",
       "13996  34231311        10\n",
       "13997  34231533        10\n",
       "13998  34233515        10\n",
       "13999  34234854        10\n",
       "14000  34235035        10\n",
       "\n",
       "[13998 rows x 2 columns]"
      ]
     },
     "execution_count": 5,
     "metadata": {},
     "output_type": "execute_result"
    }
   ],
   "source": [
    "pm.drop_duplicates(subset='PMID', inplace=True)\n",
    "pm_filtered = pm[pd.to_numeric(pm.Category, errors='coerce').notnull()]\n",
    "pm_filtered = pm_filtered[(pm_filtered.Category >= 1) & (pm_filtered.Category <= 10)]\n",
    "pm_filtered"
   ]
  },
  {
   "cell_type": "code",
   "execution_count": 6,
   "id": "a8aa2014-d99b-4354-aeba-0cf761e63330",
   "metadata": {},
   "outputs": [
    {
     "data": {
      "image/png": "[encoded data removed]",
      "text/plain": [
       "<Figure size 576x432 with 1 Axes>"
      ]
     },
     "metadata": {
      "needs_background": "light"
     },
     "output_type": "display_data"
    }
   ],
   "source": [
    "counts = pm_filtered.Category.value_counts().sort_index()\n",
    "\n",
    "plt.figure(figsize=(8, 6))\n",
    "splot=sns.barplot(x=counts.index,y=counts, color='tab:blue')\n",
    "for p in splot.patches:\n",
    "    splot.annotate(format(p.get_height(), '.0f'), \n",
    "                   (p.get_x() + p.get_width() / 2., p.get_height()), \n",
    "                   ha = 'center', va = 'center', \n",
    "                   xytext = (0, 9), \n",
    "                   textcoords = 'offset points')\n",
    "plt.ylim(0,10500)\n",
    "plt.title('PubMed Article Dataset Class Distribution', size=16)\n",
    "plt.xlabel('Category', size=12)\n",
    "plt.ylabel('Count', size=12);"
   ]
  },
  {
   "cell_type": "markdown",
   "id": "0a91592a-d12c-40a8-bf61-a7ba78380ac9",
   "metadata": {},
   "source": [
    "## Fetch abstracts (don't need to run unless new input)"
   ]
  },
  {
   "cell_type": "code",
   "execution_count": 7,
   "id": "6e25ec86-73fd-4d78-8e80-6dc339bf922a",
   "metadata": {},
   "outputs": [],
   "source": [
    "# if os.path.isfile(efetch_fn):\n",
    "#     os.remove(efetch_fn)\n",
    "\n",
    "# tmp = ','.join([str(i) for i in pm_filtered.PMID.tolist()])\n",
    "# !efetch -db pubmed -id {tmp} -format xml > {efetch_fn}"
   ]
  },
  {
   "cell_type": "markdown",
   "id": "5eaedca8-4a52-46d1-89d4-a81a62bc5f64",
   "metadata": {},
   "source": [
    "## Parse efetch output"
   ]
  },
  {
   "cell_type": "code",
   "execution_count": 8,
   "id": "34e792c4-7afe-48d5-a7a2-bfd0c083ac97",
   "metadata": {},
   "outputs": [],
   "source": [
    "with open(efetch_fn) as f:\n",
    "    soup = BeautifulSoup(f, 'lxml-xml')"
   ]
  },
  {
   "cell_type": "code",
   "execution_count": 9,
   "id": "1f996019-0b66-4a32-8938-00023db66b3a",
   "metadata": {},
   "outputs": [
    {
     "name": "stdout",
     "output_type": "stream",
     "text": [
      "284 response from efetch but no abstract\n",
      "291 failed total\n"
     ]
    }
   ],
   "source": [
    "abstracts = {}\n",
    "failed = []\n",
    "\n",
    "for node in soup('PubmedArticle'):\n",
    "    pmid = int(node.find('PMID').text)\n",
    "    if node('AbstractText'):\n",
    "        abstracts[pmid] = node.find('AbstractText').text\n",
    "    else:\n",
    "        failed.append(pmid)\n",
    "\n",
    "print(len(failed), 'response from efetch but no abstract')\n",
    "\n",
    "for pmid in pm_filtered.PMID.tolist():\n",
    "    if pmid not in abstracts and pmid not in failed:\n",
    "        failed.append(pmid)\n",
    "\n",
    "print(len(failed), 'failed total')"
   ]
  },
  {
   "cell_type": "code",
   "execution_count": 10,
   "id": "9e91e77d-f11f-469a-a10b-2761e39ead75",
   "metadata": {},
   "outputs": [
    {
     "data": {
      "text/html": [
       "<div>\n",
       "<style scoped>\n",
       "    .dataframe tbody tr th:only-of-type {\n",
       "        vertical-align: middle;\n",
       "    }\n",
       "\n",
       "    .dataframe tbody tr th {\n",
       "        vertical-align: top;\n",
       "    }\n",
       "\n",
       "    .dataframe thead th {\n",
       "        text-align: right;\n",
       "    }\n",
       "</style>\n",
       "<table border=\"1\" class=\"dataframe\">\n",
       "  <thead>\n",
       "    <tr style=\"text-align: right;\">\n",
       "      <th></th>\n",
       "      <th>PMID</th>\n",
       "      <th>Abstract</th>\n",
       "    </tr>\n",
       "  </thead>\n",
       "  <tbody>\n",
       "    <tr>\n",
       "      <th>0</th>\n",
       "      <td>25553339</td>\n",
       "      <td>Cerebellar ataxia is a progressive neuro-degen...</td>\n",
       "    </tr>\n",
       "    <tr>\n",
       "      <th>1</th>\n",
       "      <td>26663098</td>\n",
       "      <td>Facial analysis systems are becoming available...</td>\n",
       "    </tr>\n",
       "    <tr>\n",
       "      <th>2</th>\n",
       "      <td>27014455</td>\n",
       "      <td>Patients with Williams-Beuren Syndrome can be ...</td>\n",
       "    </tr>\n",
       "    <tr>\n",
       "      <th>3</th>\n",
       "      <td>27112773</td>\n",
       "      <td>The genetic basis of numerous intellectual dis...</td>\n",
       "    </tr>\n",
       "    <tr>\n",
       "      <th>4</th>\n",
       "      <td>27356087</td>\n",
       "      <td>We report four individuals from two unrelated ...</td>\n",
       "    </tr>\n",
       "    <tr>\n",
       "      <th>...</th>\n",
       "      <td>...</td>\n",
       "      <td>...</td>\n",
       "    </tr>\n",
       "    <tr>\n",
       "      <th>13702</th>\n",
       "      <td>34231311</td>\n",
       "      <td>Deep learning (DL) has shown rapid advancement...</td>\n",
       "    </tr>\n",
       "    <tr>\n",
       "      <th>13703</th>\n",
       "      <td>34231533</td>\n",
       "      <td>Systemic retinal biomarkers are biomarkers ide...</td>\n",
       "    </tr>\n",
       "    <tr>\n",
       "      <th>13704</th>\n",
       "      <td>34233515</td>\n",
       "      <td>In the last few years, artificial intelligence...</td>\n",
       "    </tr>\n",
       "    <tr>\n",
       "      <th>13705</th>\n",
       "      <td>34234854</td>\n",
       "      <td>Despite the significant progress in diagnosis ...</td>\n",
       "    </tr>\n",
       "    <tr>\n",
       "      <th>13706</th>\n",
       "      <td>34235035</td>\n",
       "      <td>Machine learning (ML) is a set of models and m...</td>\n",
       "    </tr>\n",
       "  </tbody>\n",
       "</table>\n",
       "<p>13707 rows × 2 columns</p>\n",
       "</div>"
      ],
      "text/plain": [
       "           PMID                                           Abstract\n",
       "0      25553339  Cerebellar ataxia is a progressive neuro-degen...\n",
       "1      26663098  Facial analysis systems are becoming available...\n",
       "2      27014455  Patients with Williams-Beuren Syndrome can be ...\n",
       "3      27112773  The genetic basis of numerous intellectual dis...\n",
       "4      27356087  We report four individuals from two unrelated ...\n",
       "...         ...                                                ...\n",
       "13702  34231311  Deep learning (DL) has shown rapid advancement...\n",
       "13703  34231533  Systemic retinal biomarkers are biomarkers ide...\n",
       "13704  34233515  In the last few years, artificial intelligence...\n",
       "13705  34234854  Despite the significant progress in diagnosis ...\n",
       "13706  34235035  Machine learning (ML) is a set of models and m...\n",
       "\n",
       "[13707 rows x 2 columns]"
      ]
     },
     "execution_count": 10,
     "metadata": {},
     "output_type": "execute_result"
    }
   ],
   "source": [
    "pm_abstracts = pd.DataFrame(list(abstracts.items()), columns=['PMID', 'Abstract'])\n",
    "pm_abstracts"
   ]
  },
  {
   "cell_type": "markdown",
   "id": "a72e3c22-b22e-4446-95c6-46fac69a1131",
   "metadata": {
    "tags": []
   },
   "source": [
    "## Drop invalid abstracts"
   ]
  },
  {
   "cell_type": "code",
   "execution_count": 11,
   "id": "e42b400d-e002-4c77-a7a2-cbdf39ad1cd5",
   "metadata": {},
   "outputs": [
    {
     "name": "stdout",
     "output_type": "stream",
     "text": [
      "(6, 2)\n"
     ]
    },
    {
     "data": {
      "text/plain": [
       "(13701, 2)"
      ]
     },
     "execution_count": 11,
     "metadata": {},
     "output_type": "execute_result"
    }
   ],
   "source": [
    "drop = ['A correction to this article has been published and is linked from the HTML and PDF versions of this paper. The error has not been fixed in the paper.',\n",
    "        'An amendment to this paper has been published and can be accessed via a link at the top of the paper.']\n",
    "print(pm_abstracts[pm_abstracts.Abstract.isin(drop)].shape)\n",
    "pm_abstracts.drop(pm_abstracts[pm_abstracts.Abstract.isin(drop)].index, inplace=True)\n",
    "pm_abstracts.shape"
   ]
  },
  {
   "cell_type": "markdown",
   "id": "ccab9907-8378-4719-8f96-c6c8cc260d9e",
   "metadata": {},
   "source": [
    "## Save files"
   ]
  },
  {
   "cell_type": "code",
   "execution_count": 12,
   "id": "20a87c23-7bab-4353-ac50-5265f0cb09c9",
   "metadata": {},
   "outputs": [
    {
     "data": {
      "text/html": [
       "<div>\n",
       "<style scoped>\n",
       "    .dataframe tbody tr th:only-of-type {\n",
       "        vertical-align: middle;\n",
       "    }\n",
       "\n",
       "    .dataframe tbody tr th {\n",
       "        vertical-align: top;\n",
       "    }\n",
       "\n",
       "    .dataframe thead th {\n",
       "        text-align: right;\n",
       "    }\n",
       "</style>\n",
       "<table border=\"1\" class=\"dataframe\">\n",
       "  <thead>\n",
       "    <tr style=\"text-align: right;\">\n",
       "      <th></th>\n",
       "      <th>PMID</th>\n",
       "      <th>Title</th>\n",
       "      <th>Category</th>\n",
       "    </tr>\n",
       "  </thead>\n",
       "  <tbody>\n",
       "    <tr>\n",
       "      <th>3</th>\n",
       "      <td>27088280</td>\n",
       "      <td>Microtia in Cornelia de Lange syndrome: a case...</td>\n",
       "      <td>1</td>\n",
       "    </tr>\n",
       "    <tr>\n",
       "      <th>67</th>\n",
       "      <td>32529320</td>\n",
       "      <td>Further delineation of the neurodevelopmental ...</td>\n",
       "      <td>1</td>\n",
       "    </tr>\n",
       "    <tr>\n",
       "      <th>130</th>\n",
       "      <td>Not in Pubmed</td>\n",
       "      <td>DeepGestalt analysis of the SETD5-associated i...</td>\n",
       "      <td>1</td>\n",
       "    </tr>\n",
       "    <tr>\n",
       "      <th>131</th>\n",
       "      <td>Not in Pubmed</td>\n",
       "      <td>A case of Noonan syndrome diagnosed using the ...</td>\n",
       "      <td>1</td>\n",
       "    </tr>\n",
       "    <tr>\n",
       "      <th>132</th>\n",
       "      <td>Not in Pubmed</td>\n",
       "      <td>Integrated facial analysis and targeted sequen...</td>\n",
       "      <td>1</td>\n",
       "    </tr>\n",
       "    <tr>\n",
       "      <th>...</th>\n",
       "      <td>...</td>\n",
       "      <td>...</td>\n",
       "      <td>...</td>\n",
       "    </tr>\n",
       "    <tr>\n",
       "      <th>13952</th>\n",
       "      <td>34126753</td>\n",
       "      <td>Promise and Frustration: Machine Learning in C...</td>\n",
       "      <td>10</td>\n",
       "    </tr>\n",
       "    <tr>\n",
       "      <th>13959</th>\n",
       "      <td>34138986</td>\n",
       "      <td>Putting the Pieces Together: Deep Learning for...</td>\n",
       "      <td>10</td>\n",
       "    </tr>\n",
       "    <tr>\n",
       "      <th>13963</th>\n",
       "      <td>34154724</td>\n",
       "      <td>Reducing Blindness Resulting from Retinopathy ...</td>\n",
       "      <td>10</td>\n",
       "    </tr>\n",
       "    <tr>\n",
       "      <th>13993</th>\n",
       "      <td>34224062</td>\n",
       "      <td>Letter to the Editor: Quantitative evaluation ...</td>\n",
       "      <td>10</td>\n",
       "    </tr>\n",
       "    <tr>\n",
       "      <th>14001</th>\n",
       "      <td>Not in Pubmed</td>\n",
       "      <td>Down Syndrome Face Recognition: A Review</td>\n",
       "      <td>10</td>\n",
       "    </tr>\n",
       "  </tbody>\n",
       "</table>\n",
       "<p>301 rows × 3 columns</p>\n",
       "</div>"
      ],
      "text/plain": [
       "                PMID                                              Title  \\\n",
       "3           27088280  Microtia in Cornelia de Lange syndrome: a case...   \n",
       "67          32529320  Further delineation of the neurodevelopmental ...   \n",
       "130    Not in Pubmed  DeepGestalt analysis of the SETD5-associated i...   \n",
       "131    Not in Pubmed  A case of Noonan syndrome diagnosed using the ...   \n",
       "132    Not in Pubmed  Integrated facial analysis and targeted sequen...   \n",
       "...              ...                                                ...   \n",
       "13952       34126753  Promise and Frustration: Machine Learning in C...   \n",
       "13959       34138986  Putting the Pieces Together: Deep Learning for...   \n",
       "13963       34154724  Reducing Blindness Resulting from Retinopathy ...   \n",
       "13993       34224062  Letter to the Editor: Quantitative evaluation ...   \n",
       "14001  Not in Pubmed           Down Syndrome Face Recognition: A Review   \n",
       "\n",
       "       Category  \n",
       "3             1  \n",
       "67            1  \n",
       "130           1  \n",
       "131           1  \n",
       "132           1  \n",
       "...         ...  \n",
       "13952        10  \n",
       "13959        10  \n",
       "13963        10  \n",
       "13993        10  \n",
       "14001        10  \n",
       "\n",
       "[301 rows x 3 columns]"
      ]
     },
     "execution_count": 12,
     "metadata": {},
     "output_type": "execute_result"
    }
   ],
   "source": [
    "tmp = pm_abstracts.PMID.tolist()\n",
    "failed = []\n",
    "for n, row in orig.iterrows():\n",
    "    if row.PMID not in tmp:\n",
    "        failed.append(row)\n",
    "\n",
    "failed = pd.DataFrame(failed)\n",
    "\n",
    "if os.path.isfile(failed_fn):\n",
    "    os.remove(failed_fn)\n",
    "\n",
    "failed.to_pickle(failed_fn)\n",
    "failed"
   ]
  },
  {
   "cell_type": "code",
   "execution_count": 13,
   "id": "11d4e7ee-6210-46d2-afb8-a04fae454e8a",
   "metadata": {},
   "outputs": [
    {
     "name": "stdout",
     "output_type": "stream",
     "text": [
      "[33928255, 34031651, 31610898, 30951265, 34013251]\n"
     ]
    },
    {
     "data": {
      "text/plain": [
       "(13696, 2)"
      ]
     },
     "execution_count": 13,
     "metadata": {},
     "output_type": "execute_result"
    }
   ],
   "source": [
    "print(pm_abstracts[pm_abstracts.Abstract.duplicated()].PMID.tolist())\n",
    "pm_abstracts.drop(pm_abstracts[pm_abstracts.Abstract.duplicated()].index, inplace=True)\n",
    "pm_abstracts.shape"
   ]
  },
  {
   "cell_type": "code",
   "execution_count": 14,
   "id": "1d4eac6a-ef68-4b58-8dda-508e9544095d",
   "metadata": {},
   "outputs": [
    {
     "data": {
      "text/html": [
       "<div>\n",
       "<style scoped>\n",
       "    .dataframe tbody tr th:only-of-type {\n",
       "        vertical-align: middle;\n",
       "    }\n",
       "\n",
       "    .dataframe tbody tr th {\n",
       "        vertical-align: top;\n",
       "    }\n",
       "\n",
       "    .dataframe thead th {\n",
       "        text-align: right;\n",
       "    }\n",
       "</style>\n",
       "<table border=\"1\" class=\"dataframe\">\n",
       "  <thead>\n",
       "    <tr style=\"text-align: right;\">\n",
       "      <th></th>\n",
       "      <th>PMID</th>\n",
       "      <th>Category</th>\n",
       "      <th>Abstract</th>\n",
       "    </tr>\n",
       "  </thead>\n",
       "  <tbody>\n",
       "    <tr>\n",
       "      <th>0</th>\n",
       "      <td>25553339</td>\n",
       "      <td>1</td>\n",
       "      <td>Cerebellar ataxia is a progressive neuro-degen...</td>\n",
       "    </tr>\n",
       "    <tr>\n",
       "      <th>1</th>\n",
       "      <td>26663098</td>\n",
       "      <td>1</td>\n",
       "      <td>Facial analysis systems are becoming available...</td>\n",
       "    </tr>\n",
       "    <tr>\n",
       "      <th>2</th>\n",
       "      <td>27014455</td>\n",
       "      <td>1</td>\n",
       "      <td>Patients with Williams-Beuren Syndrome can be ...</td>\n",
       "    </tr>\n",
       "    <tr>\n",
       "      <th>3</th>\n",
       "      <td>27112773</td>\n",
       "      <td>1</td>\n",
       "      <td>The genetic basis of numerous intellectual dis...</td>\n",
       "    </tr>\n",
       "    <tr>\n",
       "      <th>4</th>\n",
       "      <td>27356087</td>\n",
       "      <td>1</td>\n",
       "      <td>We report four individuals from two unrelated ...</td>\n",
       "    </tr>\n",
       "    <tr>\n",
       "      <th>...</th>\n",
       "      <td>...</td>\n",
       "      <td>...</td>\n",
       "      <td>...</td>\n",
       "    </tr>\n",
       "    <tr>\n",
       "      <th>13691</th>\n",
       "      <td>34231311</td>\n",
       "      <td>10</td>\n",
       "      <td>Deep learning (DL) has shown rapid advancement...</td>\n",
       "    </tr>\n",
       "    <tr>\n",
       "      <th>13692</th>\n",
       "      <td>34231533</td>\n",
       "      <td>10</td>\n",
       "      <td>Systemic retinal biomarkers are biomarkers ide...</td>\n",
       "    </tr>\n",
       "    <tr>\n",
       "      <th>13693</th>\n",
       "      <td>34233515</td>\n",
       "      <td>10</td>\n",
       "      <td>In the last few years, artificial intelligence...</td>\n",
       "    </tr>\n",
       "    <tr>\n",
       "      <th>13694</th>\n",
       "      <td>34234854</td>\n",
       "      <td>10</td>\n",
       "      <td>Despite the significant progress in diagnosis ...</td>\n",
       "    </tr>\n",
       "    <tr>\n",
       "      <th>13695</th>\n",
       "      <td>34235035</td>\n",
       "      <td>10</td>\n",
       "      <td>Machine learning (ML) is a set of models and m...</td>\n",
       "    </tr>\n",
       "  </tbody>\n",
       "</table>\n",
       "<p>13696 rows × 3 columns</p>\n",
       "</div>"
      ],
      "text/plain": [
       "           PMID  Category                                           Abstract\n",
       "0      25553339         1  Cerebellar ataxia is a progressive neuro-degen...\n",
       "1      26663098         1  Facial analysis systems are becoming available...\n",
       "2      27014455         1  Patients with Williams-Beuren Syndrome can be ...\n",
       "3      27112773         1  The genetic basis of numerous intellectual dis...\n",
       "4      27356087         1  We report four individuals from two unrelated ...\n",
       "...         ...       ...                                                ...\n",
       "13691  34231311        10  Deep learning (DL) has shown rapid advancement...\n",
       "13692  34231533        10  Systemic retinal biomarkers are biomarkers ide...\n",
       "13693  34233515        10  In the last few years, artificial intelligence...\n",
       "13694  34234854        10  Despite the significant progress in diagnosis ...\n",
       "13695  34235035        10  Machine learning (ML) is a set of models and m...\n",
       "\n",
       "[13696 rows x 3 columns]"
      ]
     },
     "execution_count": 14,
     "metadata": {},
     "output_type": "execute_result"
    }
   ],
   "source": [
    "pm_data = pm_filtered.merge(pm_abstracts, on='PMID')\n",
    "\n",
    "if os.path.isfile(data_fn):\n",
    "    os.remove(data_fn)\n",
    "\n",
    "pm_data.to_pickle(data_fn)\n",
    "pm_data"
   ]
  },
  {
   "cell_type": "code",
   "execution_count": null,
   "id": "3eb64b1d-01c8-4e32-a1c0-12c5ed47f2f7",
   "metadata": {},
   "outputs": [],
   "source": []
  }
 ],
 "metadata": {
  "kernelspec": {
   "display_name": "Python 3 (ipykernel)",
   "language": "python",
   "name": "python3"
  },
  "language_info": {
   "codemirror_mode": {
    "name": "ipython",
    "version": 3
   },
   "file_extension": ".py",
   "mimetype": "text/x-python",
   "name": "python",
   "nbconvert_exporter": "python",
   "pygments_lexer": "ipython3",
   "version": "3.8.12"
  }
 },
 "nbformat": 4,
 "nbformat_minor": 5
}
